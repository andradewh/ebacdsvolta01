{
 "cells": [
  {
   "cell_type": "markdown",
   "metadata": {},
   "source": [
    "# Tarefa 03\n",
    "\n",
    "- Leia os enunciados com atenção\n",
    "- Saiba que pode haver mais de uma resposta correta\n",
    "- Insira novas células de código sempre que achar necessário\n",
    "- Em caso de dúvidas, procure os Tutores\n",
    "- Divirta-se :)"
   ]
  },
  {
   "cell_type": "code",
   "execution_count": 76,
   "metadata": {},
   "outputs": [],
   "source": [
    "import pandas as pd\n",
    "import requests"
   ]
  },
  {
   "cell_type": "markdown",
   "metadata": {},
   "source": [
    "####  1) Lendo de APIs\n",
    "Vimos em aula como carregar dados públicos do governo através de um API (*Application Programming Interface*). No exemplo de aula, baixamos os dados de pedidos de verificação de limites (PVL) realizados por estados, e selecionamos apenas aqueles referentes ao estado de São Paulo.\n",
    "\n",
    "1. Repita os mesmos passos feitos em aula, mas selecione os PVLs realizados por municípios no estado do Rio de Janeiro.\n",
    "2. Quais são os três *status* das solicitações mais frequentes na base? Quais são suas frequências?\n",
    "3. Construa uma nova variável que contenha o ano do **status**. Observe que ```data_status``` vem como tipo *object* no **DataFrame**. Dica: você pode usar o método ```.str``` para transformar o tipo da variável em string, em seguida um método como [**slice()**](https://pandas.pydata.org/docs/reference/api/pandas.Series.str.slice.html) ou [**split()**](https://pandas.pydata.org/pandas-docs/stable/reference/api/pandas.Series.str.split.html).\n",
    "4. Indique a frequência de cada ano do campo construído no item (3)."
   ]
  },
  {
   "cell_type": "code",
   "execution_count": 95,
   "metadata": {},
   "outputs": [
    {
     "data": {
      "text/html": [
       "<div>\n",
       "<style scoped>\n",
       "    .dataframe tbody tr th:only-of-type {\n",
       "        vertical-align: middle;\n",
       "    }\n",
       "\n",
       "    .dataframe tbody tr th {\n",
       "        vertical-align: top;\n",
       "    }\n",
       "\n",
       "    .dataframe thead th {\n",
       "        text-align: right;\n",
       "    }\n",
       "</style>\n",
       "<table border=\"1\" class=\"dataframe\">\n",
       "  <thead>\n",
       "    <tr style=\"text-align: right;\">\n",
       "      <th></th>\n",
       "      <th>id_pleito</th>\n",
       "      <th>tipo_interessado</th>\n",
       "      <th>interessado</th>\n",
       "      <th>cod_ibge</th>\n",
       "      <th>uf</th>\n",
       "      <th>num_pvl</th>\n",
       "      <th>status</th>\n",
       "      <th>num_processo</th>\n",
       "      <th>data_protocolo</th>\n",
       "      <th>tipo_operacao</th>\n",
       "      <th>finalidade</th>\n",
       "      <th>tipo_credor</th>\n",
       "      <th>credor</th>\n",
       "      <th>moeda</th>\n",
       "      <th>valor</th>\n",
       "      <th>pvl_assoc_divida</th>\n",
       "      <th>pvl_contradado_credor</th>\n",
       "      <th>data_status</th>\n",
       "    </tr>\n",
       "  </thead>\n",
       "  <tbody>\n",
       "    <tr>\n",
       "      <th>0</th>\n",
       "      <td>13753</td>\n",
       "      <td>Município</td>\n",
       "      <td>Piraí</td>\n",
       "      <td>3304003</td>\n",
       "      <td>RJ</td>\n",
       "      <td>None</td>\n",
       "      <td>Deferido</td>\n",
       "      <td>19405.000071/2002-58</td>\n",
       "      <td>2002-09-30T03:00:00Z</td>\n",
       "      <td>Operação contratual interna</td>\n",
       "      <td>PMAT</td>\n",
       "      <td>Instituição Financeira Nacional</td>\n",
       "      <td>Banco Nacional de Desenvolvimento Econômico e ...</td>\n",
       "      <td>Real</td>\n",
       "      <td>408600.0</td>\n",
       "      <td>0</td>\n",
       "      <td>0</td>\n",
       "      <td>11/10/2002</td>\n",
       "    </tr>\n",
       "  </tbody>\n",
       "</table>\n",
       "</div>"
      ],
      "text/plain": [
       "   id_pleito tipo_interessado interessado  cod_ibge  uf num_pvl    status  \\\n",
       "0      13753        Município       Piraí   3304003  RJ    None  Deferido   \n",
       "\n",
       "           num_processo        data_protocolo                tipo_operacao  \\\n",
       "0  19405.000071/2002-58  2002-09-30T03:00:00Z  Operação contratual interna   \n",
       "\n",
       "  finalidade                      tipo_credor  \\\n",
       "0       PMAT  Instituição Financeira Nacional   \n",
       "\n",
       "                                              credor moeda     valor  \\\n",
       "0  Banco Nacional de Desenvolvimento Econômico e ...  Real  408600.0   \n",
       "\n",
       "   pvl_assoc_divida  pvl_contradado_credor data_status  \n",
       "0                 0                      0  11/10/2002  "
      ]
     },
     "execution_count": 95,
     "metadata": {},
     "output_type": "execute_result"
    }
   ],
   "source": [
    "# 1)\n",
    "url = 'https://apidatalake.tesouro.gov.br/ords/sadipem/tt/pvl?uf=RJ&tipo_interessado=Município'\n",
    "r = requests.get(url)\n",
    "r.status_code\n",
    "data_rj_json = r.json()\n",
    "df = pd.DataFrame(data_rj_json['items'])\n",
    "df.head(1)"
   ]
  },
  {
   "cell_type": "code",
   "execution_count": 79,
   "metadata": {},
   "outputs": [
    {
     "data": {
      "text/plain": [
       "Deferido        94\n",
       "Arquivado       53\n",
       "Regularizado    25\n",
       "Name: status, dtype: int64"
      ]
     },
     "execution_count": 79,
     "metadata": {},
     "output_type": "execute_result"
    }
   ],
   "source": [
    "# 2)\n",
    "df_top_status_freq = df['status'].value_counts().head(3)\n",
    "df_top_status_freq"
   ]
  },
  {
   "cell_type": "code",
   "execution_count": 96,
   "metadata": {},
   "outputs": [
    {
     "data": {
      "text/html": [
       "<div>\n",
       "<style scoped>\n",
       "    .dataframe tbody tr th:only-of-type {\n",
       "        vertical-align: middle;\n",
       "    }\n",
       "\n",
       "    .dataframe tbody tr th {\n",
       "        vertical-align: top;\n",
       "    }\n",
       "\n",
       "    .dataframe thead th {\n",
       "        text-align: right;\n",
       "    }\n",
       "</style>\n",
       "<table border=\"1\" class=\"dataframe\">\n",
       "  <thead>\n",
       "    <tr style=\"text-align: right;\">\n",
       "      <th></th>\n",
       "      <th>id_pleito</th>\n",
       "      <th>tipo_interessado</th>\n",
       "      <th>interessado</th>\n",
       "      <th>cod_ibge</th>\n",
       "      <th>uf</th>\n",
       "      <th>num_pvl</th>\n",
       "      <th>status</th>\n",
       "      <th>num_processo</th>\n",
       "      <th>data_protocolo</th>\n",
       "      <th>tipo_operacao</th>\n",
       "      <th>finalidade</th>\n",
       "      <th>tipo_credor</th>\n",
       "      <th>credor</th>\n",
       "      <th>moeda</th>\n",
       "      <th>valor</th>\n",
       "      <th>pvl_assoc_divida</th>\n",
       "      <th>pvl_contradado_credor</th>\n",
       "      <th>data_status</th>\n",
       "    </tr>\n",
       "  </thead>\n",
       "  <tbody>\n",
       "    <tr>\n",
       "      <th>0</th>\n",
       "      <td>13753</td>\n",
       "      <td>Município</td>\n",
       "      <td>Piraí</td>\n",
       "      <td>3304003</td>\n",
       "      <td>RJ</td>\n",
       "      <td>None</td>\n",
       "      <td>Deferido</td>\n",
       "      <td>19405.000071/2002-58</td>\n",
       "      <td>2002-09-30T03:00:00Z</td>\n",
       "      <td>Operação contratual interna</td>\n",
       "      <td>PMAT</td>\n",
       "      <td>Instituição Financeira Nacional</td>\n",
       "      <td>Banco Nacional de Desenvolvimento Econômico e ...</td>\n",
       "      <td>Real</td>\n",
       "      <td>408600.00</td>\n",
       "      <td>0</td>\n",
       "      <td>0</td>\n",
       "      <td>11/10/2002</td>\n",
       "    </tr>\n",
       "    <tr>\n",
       "      <th>1</th>\n",
       "      <td>13579</td>\n",
       "      <td>Município</td>\n",
       "      <td>Rio de Janeiro</td>\n",
       "      <td>3304557</td>\n",
       "      <td>RJ</td>\n",
       "      <td>None</td>\n",
       "      <td>Arquivado</td>\n",
       "      <td>19405.000029/2006-61</td>\n",
       "      <td>2006-07-20T03:00:00Z</td>\n",
       "      <td>Operação contratual interna</td>\n",
       "      <td>Saneamento básico</td>\n",
       "      <td>Instituição Financeira Nacional</td>\n",
       "      <td>Caixa Econômica Federal</td>\n",
       "      <td>Real</td>\n",
       "      <td>1316493.93</td>\n",
       "      <td>0</td>\n",
       "      <td>0</td>\n",
       "      <td>26/06/2007</td>\n",
       "    </tr>\n",
       "    <tr>\n",
       "      <th>2</th>\n",
       "      <td>11022</td>\n",
       "      <td>Município</td>\n",
       "      <td>Casimiro de Abreu</td>\n",
       "      <td>3301306</td>\n",
       "      <td>RJ</td>\n",
       "      <td>None</td>\n",
       "      <td>Deferido</td>\n",
       "      <td>17944.001338/2011-92</td>\n",
       "      <td>2012-04-18T03:00:00Z</td>\n",
       "      <td>Operação contratual interna</td>\n",
       "      <td>PAC 2 - Pró-Transporte - Pavimentação e Qualif...</td>\n",
       "      <td>Instituição Financeira Nacional</td>\n",
       "      <td>Caixa Econômica Federal</td>\n",
       "      <td>Real</td>\n",
       "      <td>3900000.00</td>\n",
       "      <td>1</td>\n",
       "      <td>0</td>\n",
       "      <td>29/06/2012</td>\n",
       "    </tr>\n",
       "    <tr>\n",
       "      <th>3</th>\n",
       "      <td>11053</td>\n",
       "      <td>Município</td>\n",
       "      <td>Macaé</td>\n",
       "      <td>3302403</td>\n",
       "      <td>RJ</td>\n",
       "      <td>None</td>\n",
       "      <td>Deferido</td>\n",
       "      <td>17944.001346/2011-39</td>\n",
       "      <td>2011-11-29T02:00:00Z</td>\n",
       "      <td>Operação contratual interna</td>\n",
       "      <td>PAC 2 - Pró-Moradia</td>\n",
       "      <td>Instituição Financeira Nacional</td>\n",
       "      <td>Caixa Econômica Federal</td>\n",
       "      <td>Real</td>\n",
       "      <td>48286602.68</td>\n",
       "      <td>1</td>\n",
       "      <td>0</td>\n",
       "      <td>08/12/2011</td>\n",
       "    </tr>\n",
       "    <tr>\n",
       "      <th>4</th>\n",
       "      <td>13229</td>\n",
       "      <td>Município</td>\n",
       "      <td>Nova Friburgo</td>\n",
       "      <td>3303401</td>\n",
       "      <td>RJ</td>\n",
       "      <td>None</td>\n",
       "      <td>Deferido</td>\n",
       "      <td>17944.001968/2006-08</td>\n",
       "      <td>2007-01-18T02:00:00Z</td>\n",
       "      <td>Operação contratual interna</td>\n",
       "      <td>Provias</td>\n",
       "      <td>Instituição Financeira Nacional</td>\n",
       "      <td>Banco do Brasil S/A</td>\n",
       "      <td>Real</td>\n",
       "      <td>1976972.00</td>\n",
       "      <td>0</td>\n",
       "      <td>0</td>\n",
       "      <td>15/02/2007</td>\n",
       "    </tr>\n",
       "  </tbody>\n",
       "</table>\n",
       "</div>"
      ],
      "text/plain": [
       "   id_pleito tipo_interessado        interessado  cod_ibge  uf num_pvl  \\\n",
       "0      13753        Município              Piraí   3304003  RJ    None   \n",
       "1      13579        Município     Rio de Janeiro   3304557  RJ    None   \n",
       "2      11022        Município  Casimiro de Abreu   3301306  RJ    None   \n",
       "3      11053        Município              Macaé   3302403  RJ    None   \n",
       "4      13229        Município      Nova Friburgo   3303401  RJ    None   \n",
       "\n",
       "      status          num_processo        data_protocolo  \\\n",
       "0   Deferido  19405.000071/2002-58  2002-09-30T03:00:00Z   \n",
       "1  Arquivado  19405.000029/2006-61  2006-07-20T03:00:00Z   \n",
       "2   Deferido  17944.001338/2011-92  2012-04-18T03:00:00Z   \n",
       "3   Deferido  17944.001346/2011-39  2011-11-29T02:00:00Z   \n",
       "4   Deferido  17944.001968/2006-08  2007-01-18T02:00:00Z   \n",
       "\n",
       "                 tipo_operacao  \\\n",
       "0  Operação contratual interna   \n",
       "1  Operação contratual interna   \n",
       "2  Operação contratual interna   \n",
       "3  Operação contratual interna   \n",
       "4  Operação contratual interna   \n",
       "\n",
       "                                          finalidade  \\\n",
       "0                                               PMAT   \n",
       "1                                  Saneamento básico   \n",
       "2  PAC 2 - Pró-Transporte - Pavimentação e Qualif...   \n",
       "3                                PAC 2 - Pró-Moradia   \n",
       "4                                            Provias   \n",
       "\n",
       "                       tipo_credor  \\\n",
       "0  Instituição Financeira Nacional   \n",
       "1  Instituição Financeira Nacional   \n",
       "2  Instituição Financeira Nacional   \n",
       "3  Instituição Financeira Nacional   \n",
       "4  Instituição Financeira Nacional   \n",
       "\n",
       "                                              credor moeda        valor  \\\n",
       "0  Banco Nacional de Desenvolvimento Econômico e ...  Real    408600.00   \n",
       "1                            Caixa Econômica Federal  Real   1316493.93   \n",
       "2                            Caixa Econômica Federal  Real   3900000.00   \n",
       "3                            Caixa Econômica Federal  Real  48286602.68   \n",
       "4                                Banco do Brasil S/A  Real   1976972.00   \n",
       "\n",
       "   pvl_assoc_divida  pvl_contradado_credor data_status  \n",
       "0                 0                      0  11/10/2002  \n",
       "1                 0                      0  26/06/2007  \n",
       "2                 1                      0  29/06/2012  \n",
       "3                 1                      0  08/12/2011  \n",
       "4                 0                      0  15/02/2007  "
      ]
     },
     "execution_count": 96,
     "metadata": {},
     "output_type": "execute_result"
    }
   ],
   "source": [
    "df.head()"
   ]
  },
  {
   "cell_type": "code",
   "execution_count": 81,
   "metadata": {},
   "outputs": [
    {
     "data": {
      "text/plain": [
       "0      2002\n",
       "1      2007\n",
       "2      2012\n",
       "3      2011\n",
       "4      2007\n",
       "       ... \n",
       "230    2021\n",
       "231    2010\n",
       "232    2010\n",
       "233    2008\n",
       "234    2013\n",
       "Name: data_status, Length: 235, dtype: object"
      ]
     },
     "execution_count": 81,
     "metadata": {},
     "output_type": "execute_result"
    }
   ],
   "source": [
    "# 3)\n",
    "ano = df['data_status'].str.slice(start=-4)\n",
    "ano\n",
    "#df['data_status'].head(1)"
   ]
  },
  {
   "cell_type": "code",
   "execution_count": 82,
   "metadata": {},
   "outputs": [
    {
     "data": {
      "text/plain": [
       "2008    37\n",
       "2007    29\n",
       "2014    20\n",
       "2010    19\n",
       "2019    17\n",
       "2020    15\n",
       "2013    15\n",
       "2022    14\n",
       "2012    13\n",
       "2011    10\n",
       "2015     9\n",
       "2009     9\n",
       "2017     5\n",
       "2021     5\n",
       "2018     4\n",
       "2002     4\n",
       "2016     4\n",
       "2006     4\n",
       "2004     1\n",
       "2003     1\n",
       "Name: data_status, dtype: int64"
      ]
     },
     "execution_count": 82,
     "metadata": {},
     "output_type": "execute_result"
    }
   ],
   "source": [
    "#4)\n",
    "ano.value_counts()"
   ]
  },
  {
   "cell_type": "markdown",
   "metadata": {},
   "source": [
    "####  2) Melhorando a interação com o API\n",
    "Observe dois URLs de consultas diferentes, por exemplo o URL utilizado em aula, e o URL feito no exercício anterior. Compare-os e observe as diferenças.\n",
    "\n",
    "1. Faça uma função em Python que recebe como argumento o UF da consulta e o tipo de interessado (```'Estado'```ou ```Município```), e que devolve os dados da consulta no formato *DataFrame*.\n",
    "2. Quantas solicitações para o Estado podem ser consultadas para Minas Gerais com *status* em 'Arquivado por decurso de prazo' estão registradas?\n",
    "3. Qual é o município da Bahia com mais solicitações deferidas?\n",
    "4. Salve um arquivo .csv com os dados de solicitações da Bahia, com interessado = 'Estado'"
   ]
  },
  {
   "cell_type": "code",
   "execution_count": 87,
   "metadata": {},
   "outputs": [],
   "source": [
    "#1)\n",
    "# https://apidatalake.tesouro.gov.br/ords/sadipem/tt/pvl?uf=RJ&tipo_interessado=Município\n",
    "def monta_requisicao (uf: str, tp_interessado: str) -> pd.DataFrame:\n",
    "    url_req = 'https://apidatalake.tesouro.gov.br/ords/sadipem/tt/pvl?uf='+uf.upper()+'&tipo_interessado='+tp_interessado.capitalize()\n",
    "    r = requests.get(url_req)\n",
    "    data_json = r.json()\n",
    "    df_req = pd.DataFrame(data_json['items'])\n",
    "    return df_req"
   ]
  },
  {
   "cell_type": "code",
   "execution_count": 88,
   "metadata": {},
   "outputs": [
    {
     "data": {
      "text/plain": [
       "Arquivado por decurso de prazo    1\n",
       "Name: status, dtype: int64"
      ]
     },
     "execution_count": 88,
     "metadata": {},
     "output_type": "execute_result"
    }
   ],
   "source": [
    "# 2)\n",
    "df = monta_requisicao('mg','estado')\n",
    "df[df['status']=='Arquivado por decurso de prazo']['status'].value_counts()\n"
   ]
  },
  {
   "cell_type": "code",
   "execution_count": 89,
   "metadata": {},
   "outputs": [
    {
     "data": {
      "text/plain": [
       "Luís Eduardo Magalhães    14\n",
       "Name: interessado, dtype: int64"
      ]
     },
     "execution_count": 89,
     "metadata": {},
     "output_type": "execute_result"
    }
   ],
   "source": [
    "# 3)\n",
    "df = monta_requisicao('ba','município')\n",
    "df[df['status']=='Deferido']['interessado'].value_counts().head(1)"
   ]
  },
  {
   "cell_type": "code",
   "execution_count": 91,
   "metadata": {},
   "outputs": [],
   "source": [
    "# 4) \n",
    "df = monta_requisicao('ba','estado')\n",
    "df.to_csv('Requisições-BA.csv',sep=';',index=False)"
   ]
  }
 ],
 "metadata": {
  "kernelspec": {
   "display_name": "Python 3 (ipykernel)",
   "language": "python",
   "name": "python3"
  },
  "language_info": {
   "codemirror_mode": {
    "name": "ipython",
    "version": 3
   },
   "file_extension": ".py",
   "mimetype": "text/x-python",
   "name": "python",
   "nbconvert_exporter": "python",
   "pygments_lexer": "ipython3",
   "version": "3.9.7"
  }
 },
 "nbformat": 4,
 "nbformat_minor": 4
}
