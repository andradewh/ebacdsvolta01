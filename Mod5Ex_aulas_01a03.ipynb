{
 "cells": [
  {
   "cell_type": "markdown",
   "metadata": {},
   "source": [
    "# Módulo 5 Tarefa 1\n",
    "## Base de nascidos vivos do DataSUS\n",
    "O DataSUS disponibiliza diversos arquivos de dados com relação a seus segurados, conforme a [lei da transparência de informações públicas](https://www.sisgov.com/transparencia-acesso-informacao/#:~:text=A%20Lei%20da%20Transpar%C3%AAncia%20(LC,em%20um%20site%20na%20internet.). \n",
    "\n",
    "Essas informações podem ser obtidas pela internet [aqui](http://www2.datasus.gov.br/DATASUS/index.php?area=0901&item=1). Como o processo de obtenção desses arquivos foge um pouco do nosso escopo, deixamos o arquivo ```SINASC_RO_2019.csv``` já como vai ser encontrado no DataSUS. O dicionário de dados está no arquivo ```estrutura_sinasc_para_CD.pdf``` (o nome do arquivo tal qual no portal do DataSUS).\n",
    "\n",
    "### Nosso objetivo\n",
    "Queremos deixar uma base organizada para podermos estudar a relação entre partos com risco para o bebê e algumas condições como tempo de parto, consultas de pré-natal etc.\n",
    "\n",
    "#### Preparação da base\n",
    "1. Carregue a base 'SINASC_RO_2019.csv'. Conte o número de registros e o número de registros não duplicados da base. Dica: você aprendeu um método que remove duplicados, encadeie este método com um outro método que conta o número de linhas. **Há linhas duplicadas?**  \n",
    "\n",
    "2. Conte o número de valores *missing* por variável.  \n",
    "\n",
    "3. Ok, no item anterior você deve ter achado pouco prático ler a informação de tantas variáveis, muitas delas nem devem ser interesantes. Então crie uma seleção dessa base somente com as colunas que interessam. São elas:\n",
    "``` \n",
    "['LOCNASC', 'IDADEMAE', 'ESTCIVMAE', 'ESCMAE', 'QTDFILVIVO', \n",
    "    'GESTACAO', 'GRAVIDEZ', 'CONSULTAS', 'APGAR5'] \n",
    "```\n",
    "Refaça a contagem de valores *missings*.  \n",
    "\n",
    "4. Apgar é uma *nota* que o pediatra dá ao bebê quando nasce de acordo com algumas características associadas principalmente à respiração. Apgar 1 e Apgar 5 são as notas 1 e 5 minutos do nascimento. Apgar5 será a nossa variável de interesse principal. Então remova todos os registros com Apgar5 não preenchido. Para esta seleção, conte novamente o número de linhas e o número de *missings*.  \n",
    "\n",
    "5. observe que as variáveis ```['ESTCIVMAE', 'CONSULTAS']``` possuem o código ```9```, que significa *ignorado*. Vamos assumir que o não preenchido é o mesmo que o código ```9```.<br>\n",
    "6. Substitua os valores faltantes da quantitativa (```QTDFILVIVO```) por zero.  \n",
    "7. Das restantes, decida que valore te parece mais adequado (um 'não preenchido' ou um valor 'mais provável' como no item anterior) e preencha. Justifique. Lembre-se de que tratamento de dados é trabalho do cientista, e que estamos tomando decisões a todo o momento - não há necessariamente certo e errado aqui.  \n",
    "8. O Apgar possui uma classificação indicando se o bebê passou por asfixia:\n",
    "- Entre 8 e 10 está em uma faixa 'normal'. \n",
    "- Entre 6 e 7, significa que o recém-nascido passou por 'asfixia leve'. \n",
    "- Entre 4 e 5 significa 'asfixia moderada'.\n",
    "- Entre 0 e 3 significa 'asfixia severa'.  \n",
    "\n",
    "Crie uma categorização dessa variável com essa codificação e calcule as frequências dessa categorização.  \n",
    "<br>\n",
    "9. Renomeie as variáveis para que fiquem no *snake case*, ou seja, em letras minúsculas, com um *underscore* entre as palávras. Dica: repare que se você não quiser criar um *dataframe* novo, você vai precisar usar a opção ```inplace = True```."
   ]
  },
  {
   "cell_type": "code",
   "execution_count": 28,
   "metadata": {},
   "outputs": [
    {
     "name": "stdout",
     "output_type": "stream",
     "text": [
      "(27028, 69)\n"
     ]
    },
    {
     "data": {
      "text/plain": [
       "(27028, 69)"
      ]
     },
     "execution_count": 28,
     "metadata": {},
     "output_type": "execute_result"
    }
   ],
   "source": [
    "import pandas as pd\n",
    "import requests\n",
    "\n",
    "# 1)\n",
    "sinasc = pd.read_csv('SINASC_RO_2019.csv')\n",
    "print(sinasc.shape)\n",
    "sinasc.drop_duplicates().shape\n",
    "# Não há duplicados"
   ]
  },
  {
   "cell_type": "code",
   "execution_count": 29,
   "metadata": {},
   "outputs": [
    {
     "data": {
      "text/plain": [
       "DTRECORIGA    27028\n",
       "CODANOMAL     26814\n",
       "IDADEPAI      19421\n",
       "SERIESCMAE    12710\n",
       "DTULTMENST    10072\n",
       "CODOCUPMAE     2907\n",
       "MESPRENAT      2867\n",
       "QTDFILMORT     2098\n",
       "QTDPARTNOR     1879\n",
       "QTDPARTCES     1791\n",
       "QTDFILVIVO     1573\n",
       "SEMAGESTAC     1238\n",
       "TPMETESTIM     1238\n",
       "GESTACAO       1232\n",
       "QTDGESTANT     1212\n",
       "STTRABPART      947\n",
       "CONSPRENAT      930\n",
       "STCESPARTO      747\n",
       "RACACORMAE      661\n",
       "RACACOR         647\n",
       "IDANOMAL        591\n",
       "ESTCIVMAE       317\n",
       "ESCMAE          312\n",
       "CODUFNATU       298\n",
       "NATURALMAE      298\n",
       "CODMUNNATU      298\n",
       "TPAPRESENT      265\n",
       "ESCMAE2010      249\n",
       "ESCMAEAGR1      249\n",
       "CODESTAB        115\n",
       "APGAR5          103\n",
       "APGAR1           96\n",
       "GRAVIDEZ         79\n",
       "TPFUNCRESP       67\n",
       "TPNASCASSI       61\n",
       "DTDECLARAC       52\n",
       "PARTO            49\n",
       "DTNASCMAE        40\n",
       "HORANASC         21\n",
       "TPDOCRESP        14\n",
       "SEXO              4\n",
       "munResLat         1\n",
       "munResLon         1\n",
       "munResAlt         1\n",
       "munResArea        1\n",
       "dtype: int64"
      ]
     },
     "execution_count": 29,
     "metadata": {},
     "output_type": "execute_result"
    }
   ],
   "source": [
    "# 2)i\n",
    "sinasc.isna().sum().sort_values(ascending=False).head(45) # USO DO HEAD PARA MOSTRAR TODAS AS VARIÁVEIS COM NA = TRUE"
   ]
  },
  {
   "cell_type": "code",
   "execution_count": 30,
   "metadata": {},
   "outputs": [
    {
     "data": {
      "text/plain": [
       "QTDFILVIVO    1573\n",
       "GESTACAO      1232\n",
       "ESTCIVMAE      317\n",
       "ESCMAE         312\n",
       "APGAR5         103\n",
       "GRAVIDEZ        79\n",
       "LOCNASC          0\n",
       "IDADEMAE         0\n",
       "CONSULTAS        0\n",
       "dtype: int64"
      ]
     },
     "execution_count": 30,
     "metadata": {},
     "output_type": "execute_result"
    }
   ],
   "source": [
    "# 3)\n",
    "sinasc[['LOCNASC', \n",
    "        'IDADEMAE', \n",
    "        'ESTCIVMAE', \n",
    "        'ESCMAE', \n",
    "        'QTDFILVIVO', \n",
    "        'GESTACAO', \n",
    "        'GRAVIDEZ', \n",
    "        'CONSULTAS', \n",
    "        'APGAR5']].isna().sum().sort_values(ascending=False)"
   ]
  },
  {
   "cell_type": "code",
   "execution_count": 31,
   "metadata": {},
   "outputs": [
    {
     "name": "stdout",
     "output_type": "stream",
     "text": [
      "27028\n",
      "26925\n"
     ]
    }
   ],
   "source": [
    "# 4)\n",
    "print(sinasc.shape[0])\n",
    "sinasc.dropna(subset=['APGAR5'], inplace=True)\n",
    "print(sinasc.shape[0])"
   ]
  },
  {
   "cell_type": "code",
   "execution_count": 32,
   "metadata": {},
   "outputs": [
    {
     "data": {
      "text/plain": [
       "QTDFILVIVO    1566\n",
       "GESTACAO      1216\n",
       "ESTCIVMAE      315\n",
       "ESCMAE         310\n",
       "GRAVIDEZ        76\n",
       "LOCNASC          0\n",
       "IDADEMAE         0\n",
       "CONSULTAS        0\n",
       "APGAR5           0\n",
       "dtype: int64"
      ]
     },
     "execution_count": 32,
     "metadata": {},
     "output_type": "execute_result"
    }
   ],
   "source": [
    "# 4)\n",
    "sinasc[['LOCNASC', \n",
    "        'IDADEMAE', \n",
    "        'ESTCIVMAE', \n",
    "        'ESCMAE', \n",
    "        'QTDFILVIVO', \n",
    "        'GESTACAO', \n",
    "        'GRAVIDEZ', \n",
    "        'CONSULTAS', \n",
    "        'APGAR5']].isna().sum().sort_values(ascending=False)"
   ]
  },
  {
   "cell_type": "code",
   "execution_count": 33,
   "metadata": {},
   "outputs": [
    {
     "data": {
      "text/plain": [
       "QTDFILVIVO    1566\n",
       "GESTACAO      1216\n",
       "ESCMAE         310\n",
       "GRAVIDEZ        76\n",
       "LOCNASC          0\n",
       "IDADEMAE         0\n",
       "ESTCIVMAE        0\n",
       "CONSULTAS        0\n",
       "APGAR5           0\n",
       "dtype: int64"
      ]
     },
     "execution_count": 33,
     "metadata": {},
     "output_type": "execute_result"
    }
   ],
   "source": [
    "# 5)\n",
    "sinasc['ESTCIVMAE'].fillna(9, inplace=True)\n",
    "sinasc['CONSULTAS'].fillna(9, inplace=True)\n",
    "\n",
    "sinasc[['LOCNASC', \n",
    "        'IDADEMAE', \n",
    "        'ESTCIVMAE', \n",
    "        'ESCMAE', \n",
    "        'QTDFILVIVO', \n",
    "        'GESTACAO', \n",
    "        'GRAVIDEZ', \n",
    "        'CONSULTAS', \n",
    "        'APGAR5']].isna().sum().sort_values(ascending=False)"
   ]
  },
  {
   "cell_type": "code",
   "execution_count": 34,
   "metadata": {},
   "outputs": [
    {
     "data": {
      "text/plain": [
       "GESTACAO      1216\n",
       "ESCMAE         310\n",
       "GRAVIDEZ        76\n",
       "LOCNASC          0\n",
       "IDADEMAE         0\n",
       "ESTCIVMAE        0\n",
       "QTDFILVIVO       0\n",
       "CONSULTAS        0\n",
       "APGAR5           0\n",
       "dtype: int64"
      ]
     },
     "execution_count": 34,
     "metadata": {},
     "output_type": "execute_result"
    }
   ],
   "source": [
    "# 6)\n",
    "sinasc['QTDFILVIVO'].fillna(0, inplace=True)\n",
    "\n",
    "sinasc[['LOCNASC', \n",
    "        'IDADEMAE', \n",
    "        'ESTCIVMAE', \n",
    "        'ESCMAE', \n",
    "        'QTDFILVIVO', \n",
    "        'GESTACAO', \n",
    "        'GRAVIDEZ', \n",
    "        'CONSULTAS', \n",
    "        'APGAR5']].isna().sum().sort_values(ascending=False)"
   ]
  },
  {
   "cell_type": "code",
   "execution_count": 35,
   "metadata": {},
   "outputs": [
    {
     "data": {
      "text/plain": [
       "LOCNASC       0\n",
       "IDADEMAE      0\n",
       "ESTCIVMAE     0\n",
       "ESCMAE        0\n",
       "QTDFILVIVO    0\n",
       "GESTACAO      0\n",
       "GRAVIDEZ      0\n",
       "CONSULTAS     0\n",
       "APGAR5        0\n",
       "dtype: int64"
      ]
     },
     "execution_count": 35,
     "metadata": {},
     "output_type": "execute_result"
    }
   ],
   "source": [
    "# 7)\n",
    "#Para esse caso decidiu-se inserir \"ignorado\" por ser uma pequena amostragem e não haver dados relevantes com base na variável APGAR5\n",
    "sinasc['GRAVIDEZ'].fillna(9, inplace=True) \n",
    "#Para esse caso decidiu-se inserir \"ignorado\" por ser uma pequena amostragem, mesmo tendo uma maior oscilação em APGAR5\n",
    "sinasc['ESCMAE'].fillna(9, inplace=True)\n",
    "#Para esse caso decidiu-se inserir o valor mais provável, por ser uma quantidade expressiva de registros\n",
    "sinasc['GESTACAO'].fillna(9, inplace=True)\n",
    "\n",
    "sinasc[['LOCNASC', \n",
    "        'IDADEMAE', \n",
    "        'ESTCIVMAE', \n",
    "        'ESCMAE', \n",
    "        'QTDFILVIVO', \n",
    "        'GESTACAO', \n",
    "        'GRAVIDEZ', \n",
    "        'CONSULTAS', \n",
    "        'APGAR5']].isna().sum().sort_values(ascending=False)"
   ]
  },
  {
   "cell_type": "code",
   "execution_count": 37,
   "metadata": {},
   "outputs": [
    {
     "data": {
      "text/plain": [
       "cat_APGAR5      \n",
       "normal              26463\n",
       "asfixia leve          320\n",
       "asfixia severa         74\n",
       "asfixia moderada       68\n",
       "dtype: int64"
      ]
     },
     "execution_count": 37,
     "metadata": {},
     "output_type": "execute_result"
    }
   ],
   "source": [
    "# 8)\n",
    "\n",
    "sinasc.loc[:,'cat_APGAR5'] = 'normal'\n",
    "sinasc.loc[(sinasc['APGAR5'] >= 6) & (sinasc['APGAR5'] <= 7),'cat_APGAR5'] = 'asfixia leve'\n",
    "sinasc.loc[(sinasc['APGAR5'] >= 4) & (sinasc['APGAR5'] <= 5),'cat_APGAR5'] = 'asfixia moderada'\n",
    "sinasc.loc[(sinasc['APGAR5'] <= 3),'cat_APGAR5'] = 'asfixia severa'\n",
    "\n",
    "sinasc[['cat_APGAR5']].value_counts()"
   ]
  },
  {
   "cell_type": "code",
   "execution_count": 39,
   "metadata": {},
   "outputs": [
    {
     "data": {
      "text/plain": [
       "cat_APGAR5      \n",
       "normal              26463\n",
       "asfixia_leve          320\n",
       "asfixia_severa         74\n",
       "asfixia_moderada       68\n",
       "dtype: int64"
      ]
     },
     "execution_count": 39,
     "metadata": {},
     "output_type": "execute_result"
    }
   ],
   "source": [
    "# 9)\n",
    "sinasc['cat_APGAR5'] = sinasc['cat_APGAR5'].str.lower()\n",
    "sinasc['cat_APGAR5'].replace(['asfixia leve','asfixia moderada','asfixia severa'],\n",
    "                             ['asfixia_leve','asfixia_moderada','asfixia_severa'], inplace = True)\n",
    "sinasc[['cat_APGAR5']].value_counts()"
   ]
  }
 ],
 "metadata": {
  "kernelspec": {
   "display_name": "Python 3 (ipykernel)",
   "language": "python",
   "name": "python3"
  },
  "language_info": {
   "codemirror_mode": {
    "name": "ipython",
    "version": 3
   },
   "file_extension": ".py",
   "mimetype": "text/x-python",
   "name": "python",
   "nbconvert_exporter": "python",
   "pygments_lexer": "ipython3",
   "version": "3.9.7"
  }
 },
 "nbformat": 4,
 "nbformat_minor": 4
}
